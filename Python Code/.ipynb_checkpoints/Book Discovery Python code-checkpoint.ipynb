{
 "cells": [
  {
   "cell_type": "code",
   "execution_count": 28,
   "id": "4aa042be",
   "metadata": {},
   "outputs": [],
   "source": [
    "# PREFIX books: <http://www.book-discovery.com/ontologies#>\n",
    "\n",
    "#Query1: Thriller books with at least 4 star ratings and categorize them based on rating.\n",
    "#Query2: Medium or large sized books authored by Chetan bhagat and published in India.\n",
    "#Query3: Books that were published after 2010 and have been reviewed as best book ever. \n",
    "#Query4: Show books whose writes received International Author Nomination and have price less than £60.\n",
    "#Query5: Books that received National Book Award grouped by their Publisher.\n",
    "\n",
    "# Query 1: =========================\n",
    "\n",
    "#SELECT ?ISBN ?Book_Name ?Genre ?Average_Rating ?Category ?Author ?Description\n",
    "#WHERE{\n",
    "#   {?book a books:Book}\n",
    "#   {?book books:has_genre ?genre}\n",
    "#   {?book books:name ?Book_Name}\n",
    "#   {?book books:has_average_rating ?review}\n",
    "#   {?review books:average_rating ?Avg_Rating}\n",
    "#   {?genre books:name ?Genre}\n",
    "#   FILTER (?Genre = \"Thriller\" && ?Avg_Rating >= 4)\n",
    "#   BIND(CONCAT(STR(?Avg_Rating), \" stars\") AS ?Average_Rating)\n",
    "#   {?book books:isbn ?ISBN}\n",
    "#   BIND(IF(?Avg_Rating=4, \"Good\", \"Very good\") AS ?Category)\n",
    "#   {?book books:written_by ?AuthorObj}\n",
    "#   {?AuthorObj books:name ?Author}\n",
    "#   {?book books:description ?Description}\n",
    "# }\n",
    "#ORDER BY ?Book_Name\n",
    "\n",
    "# Query 2: =========================\n",
    "\n",
    "#SELECT ?ISBN ?Book_Name ?Country_Name ?Author_Name (?Size_Name AS ?Size) ?Book_Price ?Genre\n",
    "#WHERE {\n",
    "#  {?book a books:Book}\n",
    "#  {?book books:name ?Book_Name}\n",
    "#  {?book books:first_published_country ?country}\n",
    "#  {?book books:written_by ?author}\n",
    "#  {?author books:name ?Author_Name}\n",
    "#  {?book books:has_size ?size}\n",
    "#  {?size books:name ?Size_Name}\n",
    "#  FILTER (?Author_Name = \"Chetan Bhagat\" && (?Size_Name = \"Medium\" || ?Size_Name = \"Large\"))\n",
    "#  {\n",
    "#    SELECT *\n",
    "#    WHERE {\n",
    "#      {?country books:name ?Country_Name}\n",
    "#      FILTER (?Country_Name = \"India\")\n",
    "#    }\n",
    "#  }\n",
    "#  {?book books:has_genre ?genre}\n",
    "#  {?genre books:name ?Genre}\n",
    "#  {?book books:isbn ?ISBN}\n",
    "#  {?book books:price ?Price}\n",
    "#  BIND(CONCAT(\"£\",STR(?Price)) AS ?Book_Price)\n",
    "#}\n",
    "\n",
    "# Query 3: =========================\n",
    "\n",
    "#SELECT ?ISBN ?Book_Name ?Review ?Publish_Year ?Author_Name ?Average_Rating ?Genre\n",
    "#WHERE{\n",
    "#   {?book a books:Book}\n",
    "#   {?book books:written_by ?author}\n",
    "#   {?author books:name ?Author_Name}\n",
    "#   {?book books:name ?Book_Name}\n",
    "#   {?book books:publish_year ?Publish_Year}\n",
    "#   {?book books:has_review ?ReviewObj}\n",
    "#   {?ReviewObj books:name ?Review}\n",
    "#   FILTER (?Review = \"Best Book Ever\" && ?Publish_Year>2010)\n",
    "#   {?book books:has_average_rating ?review}\n",
    "#   {?review books:average_rating ?Avg_Rating}\n",
    "#   BIND(CONCAT(STR(?Avg_Rating), \" stars\") AS ?Average_Rating)\n",
    "#   {?book books:isbn ?ISBN}\n",
    "#   {?book books:has_genre ?genreObj}\n",
    "#   {?genreObj books:name ?Genre}\n",
    "# }\n",
    "#ORDER BY ?Publish_Year\n",
    "\n",
    "\n",
    "# Query 4: =========================\n",
    "\n",
    "#SELECT ?ISBN ?Book_Name ?Author_Name ?Book_Price ?Nomination ?Genre\n",
    "#WHERE{\n",
    "#   {?book a books:Book}\n",
    "#   {?book books:written_by ?author}\n",
    "#   {?book books:name ?Book_Name}\n",
    "#   {?book books:price ?Price}\n",
    "#   BIND(CONCAT(\"£\",STR(?Price)) AS ?Book_Price)\n",
    "#   {?author books:name ?Author_Name}\n",
    "#   {?author books:nominated_for ?nominationObj}\n",
    "#   {?nominationObj books:name ?Nomination}\n",
    "#   FILTER (?Nomination = \"International Author Nomination\" && ?Price<60)\n",
    "#   {?book books:has_average_rating ?review}\n",
    "#   {?review books:average_rating ?Avg_Rating}\n",
    "#   BIND(CONCAT(STR(?Avg_Rating), \" stars\") AS ?Average_Rating)\n",
    "#   {?book books:isbn ?ISBN}\n",
    "#   {?book books:has_genre ?genreObj}\n",
    "#   {?genreObj books:name ?Genre}\n",
    "# }\n",
    "#ORDER BY ?Price\n",
    "\n",
    "\n",
    "# Query 5: =========================\n",
    "\n",
    "#SELECT ?Publisher_Name (GROUP_CONCAT(?ISBN; SEPARATOR=\", \") AS ?ISBNs) (GROUP_CONCAT(?Book_Name; SEPARATOR=\", \") AS ?Book_Names) (GROUP_CONCAT(?Author_Name; SEPARATOR=\", \") AS ?Author_Names) (GROUP_CONCAT(?Award_Name; SEPARATOR=\", \") AS ?Awards) (GROUP_CONCAT(?Genre; SEPARATOR=\", \") AS ?Genres)\n",
    "#WHERE{\n",
    "#   {?book a books:Book}\n",
    "#   {?book books:written_by ?author}\n",
    "#   {?author books:name ?Author_Name}\n",
    "#   {?book books:name ?Book_Name}\n",
    "#   {?book books:published_by ?publisher}\n",
    "#   {?publisher books:name ?Publisher_Name}\n",
    "#   {?book books:receive_award ?award}\n",
    "#   {?award books:name ?Award_Name}\n",
    "#   FILTER (?Award_Name = \"National Book Award\")\n",
    "#   {?book books:isbn ?ISBN}\n",
    "#   {?book books:has_genre ?genreObj}\n",
    "#   {?genreObj books:name ?Genre}\n",
    "# }\n",
    "#GROUP BY ?Publisher_Name\n",
    "#ORDER BY ?Author_Names\n"
   ]
  },
  {
   "cell_type": "markdown",
   "id": "9f3a46e4",
   "metadata": {},
   "source": [
    "# Import Stanza to recognise Entities"
   ]
  },
  {
   "cell_type": "markdown",
   "id": "4d0f3d2e",
   "metadata": {},
   "source": [
    "You may need to install stanza if it is not already there using pip install stanza"
   ]
  },
  {
   "cell_type": "markdown",
   "id": "4e61820d",
   "metadata": {},
   "source": [
    "# Bag of Keywords Mapping"
   ]
  },
  {
   "cell_type": "code",
   "execution_count": 224,
   "id": "3af3f24b",
   "metadata": {},
   "outputs": [],
   "source": [
    "# Bag of Words\n",
    "prop_list = [['has_genre','has genres', 'with genre','genre'], \n",
    "             ['written_by','written by', 'by author', 'author'], \n",
    "             ['receive_award', 'receive award', 'received', 'receive', 'awarded', 'award'], \n",
    "             ['first_published_country', 'first published country', 'first', 'published', 'country'], \n",
    "             ['has_category', 'has category', 'category']]\n",
    "\n",
    "class_list = [['book', 'books'], \n",
    "              ['author', 'authors', 'writer'], \n",
    "              ['person', 'people'], \n",
    "              ['award', 'awards'], \n",
    "              ['country', 'countries'], \n",
    "              ['category', 'categories']]\n"
   ]
  },
  {
   "cell_type": "code",
   "execution_count": 225,
   "id": "8990b1f1",
   "metadata": {},
   "outputs": [],
   "source": [
    "def map_property(word, prop_list):\n",
    "    mapped_property = \"\"\n",
    "    index = [[i, prop.index(word)]\n",
    "             for i, prop in enumerate(prop_list)\n",
    "             if word in prop]\n",
    "    if len(index) > 0:\n",
    "        mapped_property = prop_list[index[0][0]][0]\n",
    "    return mapped_property\n",
    "\n",
    "def map_class(word, class_list):\n",
    "    mapped_class = \"\"\n",
    "    index = [[i, cls.index(word)]\n",
    "             for i, cls in enumerate(class_list)\n",
    "             if word in cls]\n",
    "    if len(index) > 0:\n",
    "        mapped_class = class_list[index[0][0]][0]\n",
    "    return mapped_class"
   ]
  },
  {
   "cell_type": "markdown",
   "id": "ac1ee7bd",
   "metadata": {},
   "source": [
    "# Code"
   ]
  },
  {
   "cell_type": "code",
   "execution_count": 263,
   "id": "b584079a",
   "metadata": {},
   "outputs": [],
   "source": [
    "#text = \"all of the movies     by Greg Nicotero\"\n",
    "#text = \"all of the movies directed    by Greg Nicotero\"\n",
    "#text = \"list cast of The Walking Dead\"\n",
    "#text = \"movies in English\"\n",
    "#text = \"what is duration of Titanic?\"\n",
    "\n",
    "\n",
    "# text = \"all books with Thriller genre\"\n",
    "# text = \"all books by author Chetan Bhagat\"\n",
    "# text = \"all books awarded with Goodreads Choice Awards\"\n",
    "text = \"all books with published country as India\"\n",
    "# text = \"all books Top Rated category\"\n"
   ]
  },
  {
   "cell_type": "code",
   "execution_count": 264,
   "id": "9de3e173",
   "metadata": {},
   "outputs": [
    {
     "data": {
      "text/plain": [
       "[('all', 'DT'),\n",
       " ('book', 'NN'),\n",
       " ('with', 'IN'),\n",
       " ('publish', 'JJ'),\n",
       " ('country', 'NN'),\n",
       " ('as', 'IN'),\n",
       " ('India', 'NNP')]"
      ]
     },
     "execution_count": 264,
     "metadata": {},
     "output_type": "execute_result"
    }
   ],
   "source": [
    "processed_text = process_text(text)\n",
    "tags = create_pos_tags(processed_text)\n",
    "tags"
   ]
  },
  {
   "cell_type": "code",
   "execution_count": 265,
   "id": "cd889a0c",
   "metadata": {
    "scrolled": true
   },
   "outputs": [
    {
     "name": "stderr",
     "output_type": "stream",
     "text": [
      "2023-11-26 17:04:33 INFO: Loading these models for language: en (English):\n",
      "======================================\n",
      "| Processor    | Package             |\n",
      "--------------------------------------\n",
      "| tokenize     | combined            |\n",
      "| pos          | combined_charlm     |\n",
      "| lemma        | combined_nocharlm   |\n",
      "| constituency | ptb3-revised_charlm |\n",
      "| depparse     | combined_charlm     |\n",
      "| sentiment    | sstplus             |\n",
      "| ner          | ontonotes_charlm    |\n",
      "======================================\n",
      "\n",
      "2023-11-26 17:04:33 INFO: Using device: cpu\n",
      "2023-11-26 17:04:33 INFO: Loading: tokenize\n",
      "2023-11-26 17:04:33 INFO: Loading: pos\n"
     ]
    },
    {
     "name": "stdout",
     "output_type": "stream",
     "text": [
      "check entity:  (GPE India/NNP)\n"
     ]
    },
    {
     "name": "stderr",
     "output_type": "stream",
     "text": [
      "2023-11-26 17:04:34 INFO: Loading: lemma\n",
      "2023-11-26 17:04:34 INFO: Loading: constituency\n",
      "2023-11-26 17:04:35 INFO: Loading: depparse\n",
      "2023-11-26 17:04:35 INFO: Loading: sentiment\n",
      "2023-11-26 17:04:36 INFO: Loading: ner\n",
      "2023-11-26 17:04:37 INFO: Done loading processors!\n"
     ]
    },
    {
     "name": "stdout",
     "output_type": "stream",
     "text": [
      "{\n",
      "  \"text\": \"India\",\n",
      "  \"type\": \"GPE\",\n",
      "  \"start_char\": 36,\n",
      "  \"end_char\": 41\n",
      "}\n",
      "Classes:  ['Book']\n",
      "Properties:  ['first_published_country']\n",
      "Individuals:  {'India': 'not_mapped'}\n"
     ]
    }
   ],
   "source": [
    "#nltk.download('maxent_ne_chunker')\n",
    "#nltk.download('words')\n",
    "#!pip install pattern\n",
    "from pattern.text.en import singularize\n",
    "\n",
    "tagged_chuncks = nltk.ne_chunk(tags) \n",
    "# Iterate over the named entities and print their labels \n",
    "classes = []\n",
    "properties = []\n",
    "individuals = {}\n",
    "\n",
    "for entity in tagged_chuncks: \n",
    "    if hasattr(entity, \"label\"): \n",
    "         print(\"check entity: \",entity)\n",
    "    else:\n",
    "        if entity[1] == \"NNS\":\n",
    "            mapped_class = map_class(singularize(entity[0]), class_list)\n",
    "            if mapped_class!=\"\":\n",
    "                classes.append(mapped_class.capitalize())\n",
    "        elif entity[1] == \"VBP\":\n",
    "            mapped_property = map_property(entity[0], prop_list)\n",
    "            if mapped_property!=\"\": \n",
    "                properties.append(mapped_property)\n",
    "            \n",
    "        elif entity[1] == \"NN\":\n",
    "            mapped_property = map_property(entity[0], prop_list)\n",
    "            mapped_class = map_class(singularize(entity[0]), class_list)\n",
    "            if mapped_property!=\"\": \n",
    "                properties.append(mapped_property)\n",
    "            elif mapped_class!=\"\":\n",
    "                classes.append(mapped_class.capitalize())\n",
    "\n",
    "######################## CREATE INDIVIDUALS ##############################\n",
    "named_entities = get_named_entities(text)\n",
    "\n",
    "for e in named_entities: \n",
    "    print(e)\n",
    "    mapped_ind_class = map_class(singularize(e.type.lower()), class_list)\n",
    "    if mapped_ind_class!=\"\":\n",
    "        individuals[e.text] = mapped_ind_class.capitalize()\n",
    "    else:\n",
    "        individuals[e.text] = \"not_mapped\"\n",
    "        #classes.append(mapped_ind_class.capitalize())\n",
    "\n",
    "print(\"Classes: \",classes)\n",
    "print(\"Properties: \",properties)\n",
    "print(\"Individuals: \",individuals)"
   ]
  },
  {
   "cell_type": "code",
   "execution_count": 266,
   "id": "9e046a07",
   "metadata": {},
   "outputs": [],
   "source": [
    "from SPARQLWrapper import SPARQLWrapper2\n",
    "from tabulate import tabulate"
   ]
  },
  {
   "cell_type": "code",
   "execution_count": 267,
   "id": "79be7d81",
   "metadata": {},
   "outputs": [
    {
     "name": "stdout",
     "output_type": "stream",
     "text": [
      "\n",
      "                PREFIX book:<http://www.book-discovery.com/ontologies#>\n",
      "                SELECT *\n",
      "                WHERE{\n",
      "                {?y a book:Book}{?x (book:|!book:)|^(book:|!book:)* ?y}{?x book:first_published_country|^book:first_published_country ?y}{?y book:name ?bname} {?x book:name ?name} FILTER(?name='India')}\n"
     ]
    }
   ],
   "source": [
    "sparql = SPARQLWrapper2(\"http://localhost:3030/BookDiscoveryAppQueries/query\")\n",
    "c_triple = \"\"\n",
    "p_triple = \"\"\n",
    "i_triple = \"\"\n",
    "\n",
    "\n",
    "if len(classes)>0:\n",
    "    c_triple = \"{?y a book:\"+classes[0]+\"}\"\n",
    "    if(len(individuals)>0):\n",
    "        c_triple = c_triple + \"{?x (book:|!book:)|^(book:|!book:)* ?y}\"\n",
    "if len(properties)>0:\n",
    "    p_triple = \"{?x book:\"+properties[0]+\"|^book:\"+properties[0]+\" ?y}\"\n",
    "\n",
    "    \n",
    "if  len(individuals)>0:\n",
    "    first_key = next(iter(individuals))\n",
    "    if(individuals[first_key]==\"not_mapped\"):\n",
    "        if(len(properties)==0):\n",
    "            i_triple = \"{?x a ?y} {?y book:name ?bname} {?x book:name ?name} FILTER(?name='\"+first_key+\"')\"            \n",
    "        else:\n",
    "            i_triple = \"{?y book:name ?bname} {?x book:name ?name} FILTER(?name='\"+first_key+\"')\"\n",
    "    else:\n",
    "         i_triple = \"{?x a book:\"+individuals[first_key]+\"} {?y book:name ?bname} {?x book:name ?name} FILTER(?name='\"+first_key+\"')\"\n",
    "            \n",
    "query_start =      \"\"\"\n",
    "                PREFIX book:<http://www.book-discovery.com/ontologies#>\n",
    "                SELECT *\n",
    "                WHERE{\n",
    "                \"\"\"\n",
    "query_end =    \"}\"\n",
    "\n",
    "query = query_start+c_triple+p_triple+i_triple+query_end\n",
    "print(query)\n",
    "sparql.setQuery(query)\n",
    "results = sparql.query().bindings"
   ]
  },
  {
   "cell_type": "code",
   "execution_count": 249,
   "id": "9260ee0c",
   "metadata": {},
   "outputs": [
    {
     "name": "stdout",
     "output_type": "stream",
     "text": [
      "Book          Genre     Book URI\n",
      "------------  --------  -----------------------------------------------------\n",
      "Life Of Pi    Thriller  http://www.book-discovery.com/ontologies#life_of_pi\n",
      "Sacred Games  Thriller  http://www.book-discovery.com/ontologies#sacred_games\n",
      "400 days      Thriller  http://www.book-discovery.com/ontologies#400_days\n"
     ]
    }
   ],
   "source": [
    "table_columns = ['Book', 'Genre', 'Book URI']\n",
    "table_values = [table_columns]\n",
    "for result in results:\n",
    "    column_values = [result[\"bname\"].value, result[\"name\"].value, result[\"y\"].value]\n",
    "    table_values.append(column_values)\n",
    "\n",
    "print(tabulate(table_values, headers=\"firstrow\"))"
   ]
  },
  {
   "cell_type": "code",
   "execution_count": 255,
   "id": "1c1b88ae",
   "metadata": {},
   "outputs": [
    {
     "name": "stdout",
     "output_type": "stream",
     "text": [
      "Book             Author         Book URI\n",
      "---------------  -------------  --------------------------------------------------------\n",
      "Revolution 2020  Chetan Bhagat  http://www.book-discovery.com/ontologies#revolution_2020\n",
      "400 days         Chetan Bhagat  http://www.book-discovery.com/ontologies#400_days\n"
     ]
    }
   ],
   "source": [
    "table_columns = ['Book', 'Author', 'Book URI']\n",
    "table_values = [table_columns]\n",
    "for result in results:\n",
    "    column_values = [result[\"bname\"].value, result[\"name\"].value, result[\"y\"].value]\n",
    "    table_values.append(column_values)\n",
    "\n",
    "print(tabulate(table_values, headers=\"firstrow\"))"
   ]
  },
  {
   "cell_type": "code",
   "execution_count": 262,
   "id": "93c404d5",
   "metadata": {},
   "outputs": [
    {
     "name": "stdout",
     "output_type": "stream",
     "text": [
      "Book             Award                    Book URI\n",
      "---------------  -----------------------  --------------------------------------------------------\n",
      "A Promised Land  Goodreads Choice Awards  http://www.book-discovery.com/ontologies#a_promised_land\n",
      "Revolution 2020  Goodreads Choice Awards  http://www.book-discovery.com/ontologies#revolution_2020\n",
      "400 days         Goodreads Choice Awards  http://www.book-discovery.com/ontologies#400_days\n"
     ]
    }
   ],
   "source": [
    "table_columns = ['Book', 'Award', 'Book URI']\n",
    "table_values = [table_columns]\n",
    "for result in results:\n",
    "    column_values = [result[\"bname\"].value, result[\"name\"].value, result[\"y\"].value]\n",
    "    table_values.append(column_values)\n",
    "\n",
    "print(tabulate(table_values, headers=\"firstrow\"))"
   ]
  },
  {
   "cell_type": "code",
   "execution_count": 268,
   "id": "3b6d513f",
   "metadata": {},
   "outputs": [
    {
     "name": "stdout",
     "output_type": "stream",
     "text": [
      "Book             Country    Book URI\n",
      "---------------  ---------  --------------------------------------------------------\n",
      "Revolution 2020  India      http://www.book-discovery.com/ontologies#revolution_2020\n",
      "Sacred Games     India      http://www.book-discovery.com/ontologies#sacred_games\n",
      "400 days         India      http://www.book-discovery.com/ontologies#400_days\n"
     ]
    }
   ],
   "source": [
    "table_columns = ['Book', 'Country', 'Book URI']\n",
    "table_values = [table_columns]\n",
    "for result in results:\n",
    "    column_values = [result[\"bname\"].value, result[\"name\"].value, result[\"y\"].value]\n",
    "    table_values.append(column_values)\n",
    "\n",
    "print(tabulate(table_values, headers=\"firstrow\"))"
   ]
  },
  {
   "cell_type": "code",
   "execution_count": 243,
   "id": "b108a5ff",
   "metadata": {},
   "outputs": [
    {
     "name": "stdout",
     "output_type": "stream",
     "text": [
      "Book             Category    Book URI\n",
      "---------------  ----------  --------------------------------------------------------\n",
      "Harry Potter     Top Rated   http://www.book-discovery.com/ontologies#harry_potter\n",
      "Revolution 2020  Top Rated   http://www.book-discovery.com/ontologies#revolution_2020\n",
      "400 days         Top Rated   http://www.book-discovery.com/ontologies#400_days\n"
     ]
    }
   ],
   "source": [
    "table_columns = ['Book', 'Category', 'Book URI']\n",
    "table_values = [table_columns]\n",
    "for result in results:\n",
    "    column_values = [result[\"bname\"].value, result[\"name\"].value, result[\"y\"].value]\n",
    "    table_values.append(column_values)\n",
    "\n",
    "print(tabulate(table_values, headers=\"firstrow\"))"
   ]
  },
  {
   "cell_type": "code",
   "execution_count": null,
   "id": "e7724bb9",
   "metadata": {},
   "outputs": [],
   "source": []
  }
 ],
 "metadata": {
  "kernelspec": {
   "display_name": "Python 3 (ipykernel)",
   "language": "python",
   "name": "python3"
  },
  "language_info": {
   "codemirror_mode": {
    "name": "ipython",
    "version": 3
   },
   "file_extension": ".py",
   "mimetype": "text/x-python",
   "name": "python",
   "nbconvert_exporter": "python",
   "pygments_lexer": "ipython3",
   "version": "3.11.4"
  }
 },
 "nbformat": 4,
 "nbformat_minor": 5
}
